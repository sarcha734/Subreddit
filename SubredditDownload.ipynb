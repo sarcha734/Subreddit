{
  "nbformat": 4,
  "nbformat_minor": 0,
  "metadata": {
    "colab": {
      "provenance": [],
      "include_colab_link": true
    },
    "kernelspec": {
      "name": "python3",
      "display_name": "Python 3"
    },
    "language_info": {
      "name": "python"
    }
  },
  "cells": [
    {
      "cell_type": "markdown",
      "metadata": {
        "id": "view-in-github",
        "colab_type": "text"
      },
      "source": [
        "<a href=\"https://colab.research.google.com/github/sarcha734/Subreddit/blob/main/SubredditDownload.ipynb\" target=\"_parent\"><img src=\"https://colab.research.google.com/assets/colab-badge.svg\" alt=\"Open In Colab\"/></a>"
      ]
    },
    {
      "cell_type": "code",
      "source": [
        "!pip install praw"
      ],
      "metadata": {
        "colab": {
          "base_uri": "https://localhost:8080/"
        },
        "id": "iD0sOcP-o3QC",
        "outputId": "f10fec39-9580-4f53-dd1e-faaa5f31ff19"
      },
      "execution_count": null,
      "outputs": [
        {
          "output_type": "stream",
          "name": "stdout",
          "text": [
            "Collecting praw\n",
            "  Downloading praw-7.7.1-py3-none-any.whl.metadata (9.8 kB)\n",
            "Collecting prawcore<3,>=2.1 (from praw)\n",
            "  Downloading prawcore-2.4.0-py3-none-any.whl.metadata (5.0 kB)\n",
            "Collecting update-checker>=0.18 (from praw)\n",
            "  Downloading update_checker-0.18.0-py3-none-any.whl.metadata (2.3 kB)\n",
            "Requirement already satisfied: websocket-client>=0.54.0 in /usr/local/lib/python3.10/dist-packages (from praw) (1.8.0)\n",
            "Requirement already satisfied: requests<3.0,>=2.6.0 in /usr/local/lib/python3.10/dist-packages (from prawcore<3,>=2.1->praw) (2.32.3)\n",
            "Requirement already satisfied: charset-normalizer<4,>=2 in /usr/local/lib/python3.10/dist-packages (from requests<3.0,>=2.6.0->prawcore<3,>=2.1->praw) (3.3.2)\n",
            "Requirement already satisfied: idna<4,>=2.5 in /usr/local/lib/python3.10/dist-packages (from requests<3.0,>=2.6.0->prawcore<3,>=2.1->praw) (3.8)\n",
            "Requirement already satisfied: urllib3<3,>=1.21.1 in /usr/local/lib/python3.10/dist-packages (from requests<3.0,>=2.6.0->prawcore<3,>=2.1->praw) (2.0.7)\n",
            "Requirement already satisfied: certifi>=2017.4.17 in /usr/local/lib/python3.10/dist-packages (from requests<3.0,>=2.6.0->prawcore<3,>=2.1->praw) (2024.8.30)\n",
            "Downloading praw-7.7.1-py3-none-any.whl (191 kB)\n",
            "\u001b[2K   \u001b[90m━━━━━━━━━━━━━━━━━━━━━━━━━━━━━━━━━━━━━━━━\u001b[0m \u001b[32m191.0/191.0 kB\u001b[0m \u001b[31m5.0 MB/s\u001b[0m eta \u001b[36m0:00:00\u001b[0m\n",
            "\u001b[?25hDownloading prawcore-2.4.0-py3-none-any.whl (17 kB)\n",
            "Downloading update_checker-0.18.0-py3-none-any.whl (7.0 kB)\n",
            "Installing collected packages: update-checker, prawcore, praw\n",
            "Successfully installed praw-7.7.1 prawcore-2.4.0 update-checker-0.18.0\n"
          ]
        }
      ]
    },
    {
      "cell_type": "code",
      "execution_count": null,
      "metadata": {
        "colab": {
          "base_uri": "https://localhost:8080/"
        },
        "id": "_eAPnKeqfqGa",
        "outputId": "99c9fb48-3ff4-43ad-c066-abcb680a990b"
      },
      "outputs": [
        {
          "output_type": "stream",
          "name": "stderr",
          "text": [
            "WARNING:praw:It appears that you are using PRAW in an asynchronous environment.\n",
            "It is strongly recommended to use Async PRAW: https://asyncpraw.readthedocs.io.\n",
            "See https://praw.readthedocs.io/en/latest/getting_started/multiple_instances.html#discord-bots-and-asynchronous-environments for more info.\n",
            "\n"
          ]
        },
        {
          "output_type": "stream",
          "name": "stdout",
          "text": [
            "Saved 100 posts from r/IsraelPalestine\n"
          ]
        }
      ],
      "source": [
        "import praw\n",
        "import json\n",
        "\n",
        "# Setting up Reddit credentials\n",
        "reddit = praw.Reddit(\n",
        "    client_id='s4cCJ19Eput_2xSDPmf0DA',\n",
        "    client_secret='ip4y_XK_n99ilMhCdKRGl9NUn4JqMA',\n",
        "    user_agent='my_script by /u/PastOtherwise999',\n",
        "    username='PastOtherwise999',\n",
        "    password='Myfelix2025'\n",
        ")\n",
        "\n",
        "# Subreddit name\n",
        "subreddit_name = 'IsraelPalestine'\n",
        "\n",
        "# Select the subreddit\n",
        "subreddit = reddit.subreddit(subreddit_name)\n",
        "\n",
        "# Downloading posts\n",
        "num_posts = 100\n",
        "\n",
        "# Open a file to save the data\n",
        "with open(f\"{subreddit_name}_posts.json\", \"w\", encoding=\"utf-8\") as f:\n",
        "    posts = []\n",
        "\n",
        "    # Fetch top posts\n",
        "    for submission in subreddit.top(limit=num_posts):\n",
        "        post_data = {\n",
        "            \"title\": submission.title,\n",
        "            \"score\": submission.score,\n",
        "            \"id\": submission.id,\n",
        "            \"url\": submission.url,\n",
        "            \"comms_num\": submission.num_comments,\n",
        "            \"created\": submission.created,\n",
        "            \"body\": submission.selftext,\n",
        "        }\n",
        "\n",
        "        # Append to the list\n",
        "        posts.append(post_data)\n",
        "\n",
        "    # Save the posts to the JSON file\n",
        "    json.dump(posts, f, indent=4)\n",
        "    print(f\"Saved {len(posts)} posts from r/{subreddit_name}\")"
      ]
    }
  ]
}